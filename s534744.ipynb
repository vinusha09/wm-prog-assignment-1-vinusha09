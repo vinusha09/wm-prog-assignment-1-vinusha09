{
 "cells": [
  {
   "cell_type": "code",
   "execution_count": null,
   "metadata": {},
   "outputs": [],
   "source": [
    "#Vinusha Sandadi"
   ]
  },
  {
   "cell_type": "code",
   "execution_count": null,
   "metadata": {},
   "outputs": [],
   "source": [
    "l=6\n",
    "for x in range(1,5):\n",
    "    \n",
    "    for y in range(1,x+1):\n",
    "     print(\"#\",end =\"\")\n",
    "    for z in range(1,l+1):\n",
    "     print(\" \",end = \"\")\n",
    "    l=l-2\n",
    "    for m in range(1,x+1):\n",
    "      print(\"#\",end = \"\")\n",
    "    print('\\n',end=\"\""
   ]
  }
 ],
 "metadata": {
  "kernelspec": {
   "display_name": "Python 3",
   "language": "python",
   "name": "python3"
  },
  "language_info": {
   "codemirror_mode": {
    "name": "ipython",
    "version": 3
   },
   "file_extension": ".py",
   "mimetype": "text/x-python",
   "name": "python",
   "nbconvert_exporter": "python",
   "pygments_lexer": "ipython3",
   "version": "3.7.3"
  }
 },
 "nbformat": 4,
 "nbformat_minor": 2
}
