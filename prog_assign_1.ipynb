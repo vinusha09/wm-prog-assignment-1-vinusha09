{
 "cells": [
  {
   "cell_type": "markdown",
   "metadata": {},
   "source": [
    "# Web Mining Programming Assignment 1\n",
    "\n",
    "## Python Basics\n",
    "\n",
    "### Student Name:\n",
    "\n",
    "In this assignment you will be writing several small snippets of Python to solve individual problems.  Unless otherwise specified, you should put your work in the integrated Code cells in this document.\n",
    "\n",
    "1. Type your name on the line that says \"Student Name\"\n",
    "\n",
    "2. Write Python code that divides two numbers, stores the result in a variable and prints the result with an appropriate label."
   ]
  },
  {
   "cell_type": "code",
   "execution_count": 4,
   "metadata": {},
   "outputs": [
    {
     "name": "stdout",
     "output_type": "stream",
     "text": [
      "The result is 2\n"
     ]
    }
   ],
   "source": [
    "\"Vinusha Sandadi\"\n",
    "\n",
    "a=10\n",
    "b=5\n",
    "c=a//b\n",
    "print(\"The result is\",c)\n"
   ]
  },
  {
   "cell_type": "markdown",
   "metadata": {},
   "source": [
    "3. Using loops (and potentially conditionals), write Python code that prints the factorial of each integer from 1 through 10 (which you can store in a variable if you want).  The factorial of an integer is the product of all of the integers of 1 through the number.  Print the result."
   ]
  },
  {
   "cell_type": "code",
   "execution_count": 2,
   "metadata": {},
   "outputs": [
    {
     "name": "stdout",
     "output_type": "stream",
     "text": [
      "The factorial of 1 :  1\n",
      "The factorial of 2 :  2\n",
      "The factorial of 3 :  6\n",
      "The factorial of 4 :  24\n",
      "The factorial of 5 :  120\n",
      "The factorial of 6 :  720\n",
      "The factorial of 7 :  5040\n",
      "The factorial of 8 :  40320\n",
      "The factorial of 9 :  362880\n",
      "The factorial of 10 :  3628800\n"
     ]
    }
   ],
   "source": [
    "\n",
    "for var in range(1,11):\n",
    "    z=1\n",
    "    for v in range(1,var+1):\n",
    "        z=z*v\n",
    "       \n",
    "    print(\"The factorial of\", var, \": \",z)"
   ]
  },
  {
   "cell_type": "markdown",
   "metadata": {},
   "source": [
    "4. Create a new Jupyter Notebook (the name of the notebook should be your S number).  Add a Markdown cell that contains your name.  Add a Code cell and write Python that uses loops to draw the following pattern:\n",
    "\n",
    "```python\n",
    "#      #\n",
    "##    ##\n",
    "###  ###\n",
    "########\n",
    "```\n",
    "\n",
    "Submit both this notebook and your new notebook to your repository."
   ]
  },
  {
   "cell_type": "markdown",
   "metadata": {},
   "source": []
  }
 ],
 "metadata": {
  "kernelspec": {
   "display_name": "Python 3",
   "language": "python",
   "name": "python3"
  },
  "language_info": {
   "codemirror_mode": {
    "name": "ipython",
    "version": 3
   },
   "file_extension": ".py",
   "mimetype": "text/x-python",
   "name": "python",
   "nbconvert_exporter": "python",
   "pygments_lexer": "ipython3",
   "version": "3.7.3"
  }
 },
 "nbformat": 4,
 "nbformat_minor": 2
}
